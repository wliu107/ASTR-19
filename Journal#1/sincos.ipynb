{
 "cells": [
  {
   "cell_type": "code",
   "execution_count": 1,
   "id": "1d0c76bb-62d9-428f-af5e-1187c4382b20",
   "metadata": {},
   "outputs": [],
   "source": [
    "import numpy as np\n",
    "\n",
    "def sin_x(x):\n",
    "    \"\"\"Return the sine of x.\"\"\"\n",
    "    return np.sin(x)\n",
    "\n",
    "def cos_x(x):\n",
    "    \"\"\"Return the cosine of x.\"\"\"\n",
    "    return np.cos(x)\n"
   ]
  },
  {
   "cell_type": "code",
   "execution_count": 2,
   "id": "af7c81dc-f6e5-4ffb-874f-7e5628732e61",
   "metadata": {},
   "outputs": [],
   "source": [
    "\n",
    "x_values = np.linspace(0, 2, 1000)\n",
    "sin_values = sin_x(x_values)\n",
    "cos_values = cos_x(x_values)\n"
   ]
  },
  {
   "cell_type": "code",
   "execution_count": 3,
   "id": "6d434181-a769-43b8-b1df-1d52146c070c",
   "metadata": {},
   "outputs": [
    {
     "name": "stdout",
     "output_type": "stream",
     "text": [
      "  x    | sin(x) | cos(x) \n",
      "--------------------------\n",
      "0.0000 | 0.0000 | 1.0000\n",
      "0.0020 | 0.0020 | 1.0000\n",
      "0.0040 | 0.0040 | 1.0000\n",
      "0.0060 | 0.0060 | 1.0000\n",
      "0.0080 | 0.0080 | 1.0000\n",
      "0.0100 | 0.0100 | 0.9999\n",
      "0.0120 | 0.0120 | 0.9999\n",
      "0.0140 | 0.0140 | 0.9999\n",
      "0.0160 | 0.0160 | 0.9999\n",
      "0.0180 | 0.0180 | 0.9998\n"
     ]
    }
   ],
   "source": [
    "print(\"  x    | sin(x) | cos(x) \")\n",
    "print(\"--------------------------\")\n",
    "for i in range(10):\n",
    "    print(f\"{x_values[i]:.4f} | {sin_values[i]:.4f} | {cos_values[i]:.4f}\")\n"
   ]
  }
 ],
 "metadata": {
  "kernelspec": {
   "display_name": "Python 3 (ipykernel)",
   "language": "python",
   "name": "python3"
  },
  "language_info": {
   "codemirror_mode": {
    "name": "ipython",
    "version": 3
   },
   "file_extension": ".py",
   "mimetype": "text/x-python",
   "name": "python",
   "nbconvert_exporter": "python",
   "pygments_lexer": "ipython3",
   "version": "3.10.12"
  }
 },
 "nbformat": 4,
 "nbformat_minor": 5
}
