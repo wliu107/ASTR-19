{
 "cells": [
  {
   "cell_type": "code",
   "execution_count": 1,
   "id": "1d0c76bb-62d9-428f-af5e-1187c4382b20",
   "metadata": {},
   "outputs": [],
   "source": [
    "import numpy as np\n",
    "\n",
    "def sin_x(x):\n",
    "    \"\"\"Return the sine of x.\"\"\"\n",
    "    return np.sin(x)\n",
    "\n",
    "def cos_x(x):\n",
    "    \"\"\"Return the cosine of x.\"\"\"\n",
    "    return np.cos(x)\n"
   ]
  },
  {
   "cell_type": "code",
   "execution_count": 2,
   "id": "af7c81dc-f6e5-4ffb-874f-7e5628732e61",
   "metadata": {},
   "outputs": [],
   "source": [
    "\n",
    "x_values = np.linspace(0, 2*np.pi, 1000)\n",
    "sin_values = sin_x(x_values)\n",
    "cos_values = cos_x(x_values)\n"
   ]
  },
  {
   "cell_type": "code",
   "execution_count": 3,
   "id": "6d434181-a769-43b8-b1df-1d52146c070c",
   "metadata": {},
   "outputs": [
    {
     "name": "stdout",
     "output_type": "stream",
     "text": [
      "  x    | sin(x) | cos(x) \n",
      "--------------------------\n"
     ]
    }
   ],
   "source": [
    "print(\"  x    | sin(x) | cos(x) \")\n",
    "print(\"--------------------------\")\n"
   ]
  },
  {
   "cell_type": "code",
   "execution_count": 4,
   "id": "37ba1b3b-26a3-4379-98d0-edb3bda9056c",
   "metadata": {},
   "outputs": [
    {
     "name": "stdout",
     "output_type": "stream",
     "text": [
      "0.0000 | 0.0000 | 1.0000\n",
      "0.0063 | 0.0063 | 1.0000\n",
      "0.0126 | 0.0126 | 0.9999\n",
      "0.0189 | 0.0189 | 0.9998\n",
      "0.0252 | 0.0252 | 0.9997\n",
      "0.0314 | 0.0314 | 0.9995\n",
      "0.0377 | 0.0377 | 0.9993\n",
      "0.0440 | 0.0440 | 0.9990\n",
      "0.0503 | 0.0503 | 0.9987\n",
      "0.0566 | 0.0566 | 0.9984\n"
     ]
    }
   ],
   "source": [
    "for i in range(10):\n",
    "    print(f\"{x_values[i]:.4f} | {sin_values[i]:.4f} | {cos_values[i]:.4f}\")\n"
   ]
  }
 ],
 "metadata": {
  "kernelspec": {
   "display_name": "Python 3 (ipykernel)",
   "language": "python",
   "name": "python3"
  },
  "language_info": {
   "codemirror_mode": {
    "name": "ipython",
    "version": 3
   },
   "file_extension": ".py",
   "mimetype": "text/x-python",
   "name": "python",
   "nbconvert_exporter": "python",
   "pygments_lexer": "ipython3",
   "version": "3.10.12"
  }
 },
 "nbformat": 4,
 "nbformat_minor": 5
}
